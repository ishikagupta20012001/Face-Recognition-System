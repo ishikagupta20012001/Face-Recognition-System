{
  "nbformat": 4,
  "nbformat_minor": 0,
  "metadata": {
    "colab": {
      "name": "Placement.ipynb",
      "provenance": [],
      "authorship_tag": "ABX9TyOjFyrIdmU5RAHEDm6QILke",
      "include_colab_link": true
    },
    "kernelspec": {
      "name": "python3",
      "display_name": "Python 3"
    },
    "language_info": {
      "name": "python"
    }
  },
  "cells": [
    {
      "cell_type": "markdown",
      "metadata": {
        "id": "view-in-github",
        "colab_type": "text"
      },
      "source": [
        "<a href=\"https://colab.research.google.com/github/ishikagupta20012001/Face-Recognition-System/blob/master/Placement.ipynb\" target=\"_parent\"><img src=\"https://colab.research.google.com/assets/colab-badge.svg\" alt=\"Open In Colab\"/></a>"
      ]
    },
    {
      "cell_type": "code",
      "metadata": {
        "id": "hixFLfxbougq"
      },
      "source": [
        "import numpy as np\n",
        "import pandas as pd\n",
        "import matplotlib.pyplot as plt"
      ],
      "execution_count": null,
      "outputs": []
    },
    {
      "cell_type": "code",
      "metadata": {
        "id": "0uzt6ozxpmyX"
      },
      "source": [
        "df=pd.read_csv(\"/content/Placement_Data_Full_Class.csv\")"
      ],
      "execution_count": null,
      "outputs": []
    },
    {
      "cell_type": "code",
      "metadata": {
        "colab": {
          "base_uri": "https://localhost:8080/",
          "height": 206
        },
        "id": "LpzskskCqInS",
        "outputId": "5572e4e6-9f25-4b61-d256-39995f4eb50a"
      },
      "source": [
        "df.head()"
      ],
      "execution_count": null,
      "outputs": [
        {
          "output_type": "execute_result",
          "data": {
            "text/html": [
              "<div>\n",
              "<style scoped>\n",
              "    .dataframe tbody tr th:only-of-type {\n",
              "        vertical-align: middle;\n",
              "    }\n",
              "\n",
              "    .dataframe tbody tr th {\n",
              "        vertical-align: top;\n",
              "    }\n",
              "\n",
              "    .dataframe thead th {\n",
              "        text-align: right;\n",
              "    }\n",
              "</style>\n",
              "<table border=\"1\" class=\"dataframe\">\n",
              "  <thead>\n",
              "    <tr style=\"text-align: right;\">\n",
              "      <th></th>\n",
              "      <th>sl_no</th>\n",
              "      <th>gender</th>\n",
              "      <th>ssc_p</th>\n",
              "      <th>ssc_b</th>\n",
              "      <th>hsc_p</th>\n",
              "      <th>hsc_b</th>\n",
              "      <th>hsc_s</th>\n",
              "      <th>degree_p</th>\n",
              "      <th>degree_t</th>\n",
              "      <th>workex</th>\n",
              "      <th>etest_p</th>\n",
              "      <th>specialisation</th>\n",
              "      <th>mba_p</th>\n",
              "      <th>status</th>\n",
              "      <th>salary</th>\n",
              "    </tr>\n",
              "  </thead>\n",
              "  <tbody>\n",
              "    <tr>\n",
              "      <th>0</th>\n",
              "      <td>1</td>\n",
              "      <td>M</td>\n",
              "      <td>67.00</td>\n",
              "      <td>Others</td>\n",
              "      <td>91.00</td>\n",
              "      <td>Others</td>\n",
              "      <td>Commerce</td>\n",
              "      <td>58.00</td>\n",
              "      <td>Sci&amp;Tech</td>\n",
              "      <td>No</td>\n",
              "      <td>55.0</td>\n",
              "      <td>Mkt&amp;HR</td>\n",
              "      <td>58.80</td>\n",
              "      <td>Placed</td>\n",
              "      <td>270000.0</td>\n",
              "    </tr>\n",
              "    <tr>\n",
              "      <th>1</th>\n",
              "      <td>2</td>\n",
              "      <td>M</td>\n",
              "      <td>79.33</td>\n",
              "      <td>Central</td>\n",
              "      <td>78.33</td>\n",
              "      <td>Others</td>\n",
              "      <td>Science</td>\n",
              "      <td>77.48</td>\n",
              "      <td>Sci&amp;Tech</td>\n",
              "      <td>Yes</td>\n",
              "      <td>86.5</td>\n",
              "      <td>Mkt&amp;Fin</td>\n",
              "      <td>66.28</td>\n",
              "      <td>Placed</td>\n",
              "      <td>200000.0</td>\n",
              "    </tr>\n",
              "    <tr>\n",
              "      <th>2</th>\n",
              "      <td>3</td>\n",
              "      <td>M</td>\n",
              "      <td>65.00</td>\n",
              "      <td>Central</td>\n",
              "      <td>68.00</td>\n",
              "      <td>Central</td>\n",
              "      <td>Arts</td>\n",
              "      <td>64.00</td>\n",
              "      <td>Comm&amp;Mgmt</td>\n",
              "      <td>No</td>\n",
              "      <td>75.0</td>\n",
              "      <td>Mkt&amp;Fin</td>\n",
              "      <td>57.80</td>\n",
              "      <td>Placed</td>\n",
              "      <td>250000.0</td>\n",
              "    </tr>\n",
              "    <tr>\n",
              "      <th>3</th>\n",
              "      <td>4</td>\n",
              "      <td>M</td>\n",
              "      <td>56.00</td>\n",
              "      <td>Central</td>\n",
              "      <td>52.00</td>\n",
              "      <td>Central</td>\n",
              "      <td>Science</td>\n",
              "      <td>52.00</td>\n",
              "      <td>Sci&amp;Tech</td>\n",
              "      <td>No</td>\n",
              "      <td>66.0</td>\n",
              "      <td>Mkt&amp;HR</td>\n",
              "      <td>59.43</td>\n",
              "      <td>Not Placed</td>\n",
              "      <td>NaN</td>\n",
              "    </tr>\n",
              "    <tr>\n",
              "      <th>4</th>\n",
              "      <td>5</td>\n",
              "      <td>M</td>\n",
              "      <td>85.80</td>\n",
              "      <td>Central</td>\n",
              "      <td>73.60</td>\n",
              "      <td>Central</td>\n",
              "      <td>Commerce</td>\n",
              "      <td>73.30</td>\n",
              "      <td>Comm&amp;Mgmt</td>\n",
              "      <td>No</td>\n",
              "      <td>96.8</td>\n",
              "      <td>Mkt&amp;Fin</td>\n",
              "      <td>55.50</td>\n",
              "      <td>Placed</td>\n",
              "      <td>425000.0</td>\n",
              "    </tr>\n",
              "  </tbody>\n",
              "</table>\n",
              "</div>"
            ],
            "text/plain": [
              "   sl_no gender  ssc_p    ssc_b  ...  specialisation  mba_p      status    salary\n",
              "0      1      M  67.00   Others  ...          Mkt&HR  58.80      Placed  270000.0\n",
              "1      2      M  79.33  Central  ...         Mkt&Fin  66.28      Placed  200000.0\n",
              "2      3      M  65.00  Central  ...         Mkt&Fin  57.80      Placed  250000.0\n",
              "3      4      M  56.00  Central  ...          Mkt&HR  59.43  Not Placed       NaN\n",
              "4      5      M  85.80  Central  ...         Mkt&Fin  55.50      Placed  425000.0\n",
              "\n",
              "[5 rows x 15 columns]"
            ]
          },
          "metadata": {},
          "execution_count": 175
        }
      ]
    },
    {
      "cell_type": "code",
      "metadata": {
        "colab": {
          "base_uri": "https://localhost:8080/"
        },
        "id": "k6NtAHbDqiUT",
        "outputId": "5c3898fa-f62b-4868-ff2c-c757dde41de7"
      },
      "source": [
        "df.info()"
      ],
      "execution_count": null,
      "outputs": [
        {
          "output_type": "stream",
          "name": "stdout",
          "text": [
            "<class 'pandas.core.frame.DataFrame'>\n",
            "RangeIndex: 215 entries, 0 to 214\n",
            "Data columns (total 15 columns):\n",
            " #   Column          Non-Null Count  Dtype  \n",
            "---  ------          --------------  -----  \n",
            " 0   sl_no           215 non-null    int64  \n",
            " 1   gender          215 non-null    object \n",
            " 2   ssc_p           215 non-null    float64\n",
            " 3   ssc_b           215 non-null    object \n",
            " 4   hsc_p           215 non-null    float64\n",
            " 5   hsc_b           215 non-null    object \n",
            " 6   hsc_s           215 non-null    object \n",
            " 7   degree_p        215 non-null    float64\n",
            " 8   degree_t        215 non-null    object \n",
            " 9   workex          215 non-null    object \n",
            " 10  etest_p         215 non-null    float64\n",
            " 11  specialisation  215 non-null    object \n",
            " 12  mba_p           215 non-null    float64\n",
            " 13  status          215 non-null    object \n",
            " 14  salary          148 non-null    float64\n",
            "dtypes: float64(6), int64(1), object(8)\n",
            "memory usage: 25.3+ KB\n"
          ]
        }
      ]
    },
    {
      "cell_type": "code",
      "metadata": {
        "colab": {
          "base_uri": "https://localhost:8080/"
        },
        "id": "jNUNMiHW1NjE",
        "outputId": "d6e64f78-df2e-4f9d-e50a-ea27c9afaf74"
      },
      "source": [
        "df.isnull().sum()"
      ],
      "execution_count": null,
      "outputs": [
        {
          "output_type": "execute_result",
          "data": {
            "text/plain": [
              "sl_no              0\n",
              "gender             0\n",
              "ssc_p              0\n",
              "ssc_b              0\n",
              "hsc_p              0\n",
              "hsc_b              0\n",
              "hsc_s              0\n",
              "degree_p           0\n",
              "degree_t           0\n",
              "workex             0\n",
              "etest_p            0\n",
              "specialisation     0\n",
              "mba_p              0\n",
              "status             0\n",
              "salary            67\n",
              "dtype: int64"
            ]
          },
          "metadata": {},
          "execution_count": 177
        }
      ]
    },
    {
      "cell_type": "code",
      "metadata": {
        "colab": {
          "base_uri": "https://localhost:8080/"
        },
        "id": "osil5zrs1_-L",
        "outputId": "afce780c-3ff7-4a7d-d860-4585631f995a"
      },
      "source": [
        "df.shape"
      ],
      "execution_count": null,
      "outputs": [
        {
          "output_type": "execute_result",
          "data": {
            "text/plain": [
              "(215, 15)"
            ]
          },
          "metadata": {},
          "execution_count": 178
        }
      ]
    },
    {
      "cell_type": "code",
      "metadata": {
        "id": "LGgdEG7u2M0z"
      },
      "source": [
        "from sklearn.impute import SimpleImputer"
      ],
      "execution_count": null,
      "outputs": []
    },
    {
      "cell_type": "code",
      "metadata": {
        "id": "e9XiTOBz3Eys"
      },
      "source": [
        "si=SimpleImputer(missing_values=np.nan)"
      ],
      "execution_count": null,
      "outputs": []
    },
    {
      "cell_type": "code",
      "metadata": {
        "id": "ADYkSxrb3PU_"
      },
      "source": [
        "df2=si.fit_transform(df[['salary']])"
      ],
      "execution_count": null,
      "outputs": []
    },
    {
      "cell_type": "code",
      "metadata": {
        "colab": {
          "base_uri": "https://localhost:8080/",
          "height": 423
        },
        "id": "egdxKpcC4Y61",
        "outputId": "04376c5c-bcce-42a0-d28d-2c17eba3b4be"
      },
      "source": [
        "df.drop(['salary'],axis=1)"
      ],
      "execution_count": null,
      "outputs": [
        {
          "output_type": "execute_result",
          "data": {
            "text/html": [
              "<div>\n",
              "<style scoped>\n",
              "    .dataframe tbody tr th:only-of-type {\n",
              "        vertical-align: middle;\n",
              "    }\n",
              "\n",
              "    .dataframe tbody tr th {\n",
              "        vertical-align: top;\n",
              "    }\n",
              "\n",
              "    .dataframe thead th {\n",
              "        text-align: right;\n",
              "    }\n",
              "</style>\n",
              "<table border=\"1\" class=\"dataframe\">\n",
              "  <thead>\n",
              "    <tr style=\"text-align: right;\">\n",
              "      <th></th>\n",
              "      <th>sl_no</th>\n",
              "      <th>gender</th>\n",
              "      <th>ssc_p</th>\n",
              "      <th>ssc_b</th>\n",
              "      <th>hsc_p</th>\n",
              "      <th>hsc_b</th>\n",
              "      <th>hsc_s</th>\n",
              "      <th>degree_p</th>\n",
              "      <th>degree_t</th>\n",
              "      <th>workex</th>\n",
              "      <th>etest_p</th>\n",
              "      <th>specialisation</th>\n",
              "      <th>mba_p</th>\n",
              "      <th>status</th>\n",
              "    </tr>\n",
              "  </thead>\n",
              "  <tbody>\n",
              "    <tr>\n",
              "      <th>0</th>\n",
              "      <td>1</td>\n",
              "      <td>M</td>\n",
              "      <td>67.00</td>\n",
              "      <td>Others</td>\n",
              "      <td>91.00</td>\n",
              "      <td>Others</td>\n",
              "      <td>Commerce</td>\n",
              "      <td>58.00</td>\n",
              "      <td>Sci&amp;Tech</td>\n",
              "      <td>No</td>\n",
              "      <td>55.0</td>\n",
              "      <td>Mkt&amp;HR</td>\n",
              "      <td>58.80</td>\n",
              "      <td>Placed</td>\n",
              "    </tr>\n",
              "    <tr>\n",
              "      <th>1</th>\n",
              "      <td>2</td>\n",
              "      <td>M</td>\n",
              "      <td>79.33</td>\n",
              "      <td>Central</td>\n",
              "      <td>78.33</td>\n",
              "      <td>Others</td>\n",
              "      <td>Science</td>\n",
              "      <td>77.48</td>\n",
              "      <td>Sci&amp;Tech</td>\n",
              "      <td>Yes</td>\n",
              "      <td>86.5</td>\n",
              "      <td>Mkt&amp;Fin</td>\n",
              "      <td>66.28</td>\n",
              "      <td>Placed</td>\n",
              "    </tr>\n",
              "    <tr>\n",
              "      <th>2</th>\n",
              "      <td>3</td>\n",
              "      <td>M</td>\n",
              "      <td>65.00</td>\n",
              "      <td>Central</td>\n",
              "      <td>68.00</td>\n",
              "      <td>Central</td>\n",
              "      <td>Arts</td>\n",
              "      <td>64.00</td>\n",
              "      <td>Comm&amp;Mgmt</td>\n",
              "      <td>No</td>\n",
              "      <td>75.0</td>\n",
              "      <td>Mkt&amp;Fin</td>\n",
              "      <td>57.80</td>\n",
              "      <td>Placed</td>\n",
              "    </tr>\n",
              "    <tr>\n",
              "      <th>3</th>\n",
              "      <td>4</td>\n",
              "      <td>M</td>\n",
              "      <td>56.00</td>\n",
              "      <td>Central</td>\n",
              "      <td>52.00</td>\n",
              "      <td>Central</td>\n",
              "      <td>Science</td>\n",
              "      <td>52.00</td>\n",
              "      <td>Sci&amp;Tech</td>\n",
              "      <td>No</td>\n",
              "      <td>66.0</td>\n",
              "      <td>Mkt&amp;HR</td>\n",
              "      <td>59.43</td>\n",
              "      <td>Not Placed</td>\n",
              "    </tr>\n",
              "    <tr>\n",
              "      <th>4</th>\n",
              "      <td>5</td>\n",
              "      <td>M</td>\n",
              "      <td>85.80</td>\n",
              "      <td>Central</td>\n",
              "      <td>73.60</td>\n",
              "      <td>Central</td>\n",
              "      <td>Commerce</td>\n",
              "      <td>73.30</td>\n",
              "      <td>Comm&amp;Mgmt</td>\n",
              "      <td>No</td>\n",
              "      <td>96.8</td>\n",
              "      <td>Mkt&amp;Fin</td>\n",
              "      <td>55.50</td>\n",
              "      <td>Placed</td>\n",
              "    </tr>\n",
              "    <tr>\n",
              "      <th>...</th>\n",
              "      <td>...</td>\n",
              "      <td>...</td>\n",
              "      <td>...</td>\n",
              "      <td>...</td>\n",
              "      <td>...</td>\n",
              "      <td>...</td>\n",
              "      <td>...</td>\n",
              "      <td>...</td>\n",
              "      <td>...</td>\n",
              "      <td>...</td>\n",
              "      <td>...</td>\n",
              "      <td>...</td>\n",
              "      <td>...</td>\n",
              "      <td>...</td>\n",
              "    </tr>\n",
              "    <tr>\n",
              "      <th>210</th>\n",
              "      <td>211</td>\n",
              "      <td>M</td>\n",
              "      <td>80.60</td>\n",
              "      <td>Others</td>\n",
              "      <td>82.00</td>\n",
              "      <td>Others</td>\n",
              "      <td>Commerce</td>\n",
              "      <td>77.60</td>\n",
              "      <td>Comm&amp;Mgmt</td>\n",
              "      <td>No</td>\n",
              "      <td>91.0</td>\n",
              "      <td>Mkt&amp;Fin</td>\n",
              "      <td>74.49</td>\n",
              "      <td>Placed</td>\n",
              "    </tr>\n",
              "    <tr>\n",
              "      <th>211</th>\n",
              "      <td>212</td>\n",
              "      <td>M</td>\n",
              "      <td>58.00</td>\n",
              "      <td>Others</td>\n",
              "      <td>60.00</td>\n",
              "      <td>Others</td>\n",
              "      <td>Science</td>\n",
              "      <td>72.00</td>\n",
              "      <td>Sci&amp;Tech</td>\n",
              "      <td>No</td>\n",
              "      <td>74.0</td>\n",
              "      <td>Mkt&amp;Fin</td>\n",
              "      <td>53.62</td>\n",
              "      <td>Placed</td>\n",
              "    </tr>\n",
              "    <tr>\n",
              "      <th>212</th>\n",
              "      <td>213</td>\n",
              "      <td>M</td>\n",
              "      <td>67.00</td>\n",
              "      <td>Others</td>\n",
              "      <td>67.00</td>\n",
              "      <td>Others</td>\n",
              "      <td>Commerce</td>\n",
              "      <td>73.00</td>\n",
              "      <td>Comm&amp;Mgmt</td>\n",
              "      <td>Yes</td>\n",
              "      <td>59.0</td>\n",
              "      <td>Mkt&amp;Fin</td>\n",
              "      <td>69.72</td>\n",
              "      <td>Placed</td>\n",
              "    </tr>\n",
              "    <tr>\n",
              "      <th>213</th>\n",
              "      <td>214</td>\n",
              "      <td>F</td>\n",
              "      <td>74.00</td>\n",
              "      <td>Others</td>\n",
              "      <td>66.00</td>\n",
              "      <td>Others</td>\n",
              "      <td>Commerce</td>\n",
              "      <td>58.00</td>\n",
              "      <td>Comm&amp;Mgmt</td>\n",
              "      <td>No</td>\n",
              "      <td>70.0</td>\n",
              "      <td>Mkt&amp;HR</td>\n",
              "      <td>60.23</td>\n",
              "      <td>Placed</td>\n",
              "    </tr>\n",
              "    <tr>\n",
              "      <th>214</th>\n",
              "      <td>215</td>\n",
              "      <td>M</td>\n",
              "      <td>62.00</td>\n",
              "      <td>Central</td>\n",
              "      <td>58.00</td>\n",
              "      <td>Others</td>\n",
              "      <td>Science</td>\n",
              "      <td>53.00</td>\n",
              "      <td>Comm&amp;Mgmt</td>\n",
              "      <td>No</td>\n",
              "      <td>89.0</td>\n",
              "      <td>Mkt&amp;HR</td>\n",
              "      <td>60.22</td>\n",
              "      <td>Not Placed</td>\n",
              "    </tr>\n",
              "  </tbody>\n",
              "</table>\n",
              "<p>215 rows × 14 columns</p>\n",
              "</div>"
            ],
            "text/plain": [
              "     sl_no gender  ssc_p    ssc_b  ...  etest_p specialisation  mba_p      status\n",
              "0        1      M  67.00   Others  ...     55.0         Mkt&HR  58.80      Placed\n",
              "1        2      M  79.33  Central  ...     86.5        Mkt&Fin  66.28      Placed\n",
              "2        3      M  65.00  Central  ...     75.0        Mkt&Fin  57.80      Placed\n",
              "3        4      M  56.00  Central  ...     66.0         Mkt&HR  59.43  Not Placed\n",
              "4        5      M  85.80  Central  ...     96.8        Mkt&Fin  55.50      Placed\n",
              "..     ...    ...    ...      ...  ...      ...            ...    ...         ...\n",
              "210    211      M  80.60   Others  ...     91.0        Mkt&Fin  74.49      Placed\n",
              "211    212      M  58.00   Others  ...     74.0        Mkt&Fin  53.62      Placed\n",
              "212    213      M  67.00   Others  ...     59.0        Mkt&Fin  69.72      Placed\n",
              "213    214      F  74.00   Others  ...     70.0         Mkt&HR  60.23      Placed\n",
              "214    215      M  62.00  Central  ...     89.0         Mkt&HR  60.22  Not Placed\n",
              "\n",
              "[215 rows x 14 columns]"
            ]
          },
          "metadata": {},
          "execution_count": 182
        }
      ]
    },
    {
      "cell_type": "code",
      "metadata": {
        "id": "oL9zs7145PXX"
      },
      "source": [
        "df['salary']=df2"
      ],
      "execution_count": null,
      "outputs": []
    },
    {
      "cell_type": "code",
      "metadata": {
        "colab": {
          "base_uri": "https://localhost:8080/"
        },
        "id": "de4_9_NZkweH",
        "outputId": "c0b38fc6-18f2-4fab-b681-6480dd04cf6e"
      },
      "source": [
        "df['hsc_s'].unique()"
      ],
      "execution_count": null,
      "outputs": [
        {
          "output_type": "execute_result",
          "data": {
            "text/plain": [
              "array(['Commerce', 'Science', 'Arts'], dtype=object)"
            ]
          },
          "metadata": {},
          "execution_count": 184
        }
      ]
    },
    {
      "cell_type": "code",
      "metadata": {
        "colab": {
          "base_uri": "https://localhost:8080/"
        },
        "id": "FaYAlzQr1IQV",
        "outputId": "7506b3f1-41f5-49e9-d8b9-9e7380a3c2ff"
      },
      "source": [
        "df.columns"
      ],
      "execution_count": null,
      "outputs": [
        {
          "output_type": "execute_result",
          "data": {
            "text/plain": [
              "Index(['sl_no', 'gender', 'ssc_p', 'ssc_b', 'hsc_p', 'hsc_b', 'hsc_s',\n",
              "       'degree_p', 'degree_t', 'workex', 'etest_p', 'specialisation', 'mba_p',\n",
              "       'status', 'salary'],\n",
              "      dtype='object')"
            ]
          },
          "metadata": {},
          "execution_count": 185
        }
      ]
    },
    {
      "cell_type": "code",
      "metadata": {
        "id": "yVdyQGVvlXsi"
      },
      "source": [
        "from sklearn.preprocessing import LabelEncoder\n",
        "le=LabelEncoder()\n",
        "li=['gender', 'ssc_b', 'hsc_b', 'hsc_s',\n",
        "       'degree_t', 'workex', 'specialisation',\n",
        "      'status']"
      ],
      "execution_count": null,
      "outputs": []
    },
    {
      "cell_type": "code",
      "metadata": {
        "id": "5VY0ZgXYmBLH"
      },
      "source": [
        "for i in li:\n",
        "  df1=le.fit_transform(df[i])\n",
        "  df.drop([i],axis=1)\n",
        "  df[i]=df1"
      ],
      "execution_count": null,
      "outputs": []
    },
    {
      "cell_type": "code",
      "metadata": {
        "colab": {
          "base_uri": "https://localhost:8080/",
          "height": 206
        },
        "id": "L-7RqC-rmoWc",
        "outputId": "cae91f07-048c-470c-f2a1-e85937c21159"
      },
      "source": [
        "df.head()"
      ],
      "execution_count": null,
      "outputs": [
        {
          "output_type": "execute_result",
          "data": {
            "text/html": [
              "<div>\n",
              "<style scoped>\n",
              "    .dataframe tbody tr th:only-of-type {\n",
              "        vertical-align: middle;\n",
              "    }\n",
              "\n",
              "    .dataframe tbody tr th {\n",
              "        vertical-align: top;\n",
              "    }\n",
              "\n",
              "    .dataframe thead th {\n",
              "        text-align: right;\n",
              "    }\n",
              "</style>\n",
              "<table border=\"1\" class=\"dataframe\">\n",
              "  <thead>\n",
              "    <tr style=\"text-align: right;\">\n",
              "      <th></th>\n",
              "      <th>sl_no</th>\n",
              "      <th>gender</th>\n",
              "      <th>ssc_p</th>\n",
              "      <th>ssc_b</th>\n",
              "      <th>hsc_p</th>\n",
              "      <th>hsc_b</th>\n",
              "      <th>hsc_s</th>\n",
              "      <th>degree_p</th>\n",
              "      <th>degree_t</th>\n",
              "      <th>workex</th>\n",
              "      <th>etest_p</th>\n",
              "      <th>specialisation</th>\n",
              "      <th>mba_p</th>\n",
              "      <th>status</th>\n",
              "      <th>salary</th>\n",
              "    </tr>\n",
              "  </thead>\n",
              "  <tbody>\n",
              "    <tr>\n",
              "      <th>0</th>\n",
              "      <td>1</td>\n",
              "      <td>1</td>\n",
              "      <td>67.00</td>\n",
              "      <td>1</td>\n",
              "      <td>91.00</td>\n",
              "      <td>1</td>\n",
              "      <td>1</td>\n",
              "      <td>58.00</td>\n",
              "      <td>2</td>\n",
              "      <td>0</td>\n",
              "      <td>55.0</td>\n",
              "      <td>1</td>\n",
              "      <td>58.80</td>\n",
              "      <td>1</td>\n",
              "      <td>270000.000000</td>\n",
              "    </tr>\n",
              "    <tr>\n",
              "      <th>1</th>\n",
              "      <td>2</td>\n",
              "      <td>1</td>\n",
              "      <td>79.33</td>\n",
              "      <td>0</td>\n",
              "      <td>78.33</td>\n",
              "      <td>1</td>\n",
              "      <td>2</td>\n",
              "      <td>77.48</td>\n",
              "      <td>2</td>\n",
              "      <td>1</td>\n",
              "      <td>86.5</td>\n",
              "      <td>0</td>\n",
              "      <td>66.28</td>\n",
              "      <td>1</td>\n",
              "      <td>200000.000000</td>\n",
              "    </tr>\n",
              "    <tr>\n",
              "      <th>2</th>\n",
              "      <td>3</td>\n",
              "      <td>1</td>\n",
              "      <td>65.00</td>\n",
              "      <td>0</td>\n",
              "      <td>68.00</td>\n",
              "      <td>0</td>\n",
              "      <td>0</td>\n",
              "      <td>64.00</td>\n",
              "      <td>0</td>\n",
              "      <td>0</td>\n",
              "      <td>75.0</td>\n",
              "      <td>0</td>\n",
              "      <td>57.80</td>\n",
              "      <td>1</td>\n",
              "      <td>250000.000000</td>\n",
              "    </tr>\n",
              "    <tr>\n",
              "      <th>3</th>\n",
              "      <td>4</td>\n",
              "      <td>1</td>\n",
              "      <td>56.00</td>\n",
              "      <td>0</td>\n",
              "      <td>52.00</td>\n",
              "      <td>0</td>\n",
              "      <td>2</td>\n",
              "      <td>52.00</td>\n",
              "      <td>2</td>\n",
              "      <td>0</td>\n",
              "      <td>66.0</td>\n",
              "      <td>1</td>\n",
              "      <td>59.43</td>\n",
              "      <td>0</td>\n",
              "      <td>288655.405405</td>\n",
              "    </tr>\n",
              "    <tr>\n",
              "      <th>4</th>\n",
              "      <td>5</td>\n",
              "      <td>1</td>\n",
              "      <td>85.80</td>\n",
              "      <td>0</td>\n",
              "      <td>73.60</td>\n",
              "      <td>0</td>\n",
              "      <td>1</td>\n",
              "      <td>73.30</td>\n",
              "      <td>0</td>\n",
              "      <td>0</td>\n",
              "      <td>96.8</td>\n",
              "      <td>0</td>\n",
              "      <td>55.50</td>\n",
              "      <td>1</td>\n",
              "      <td>425000.000000</td>\n",
              "    </tr>\n",
              "  </tbody>\n",
              "</table>\n",
              "</div>"
            ],
            "text/plain": [
              "   sl_no  gender  ssc_p  ssc_b  ...  specialisation  mba_p  status         salary\n",
              "0      1       1  67.00      1  ...               1  58.80       1  270000.000000\n",
              "1      2       1  79.33      0  ...               0  66.28       1  200000.000000\n",
              "2      3       1  65.00      0  ...               0  57.80       1  250000.000000\n",
              "3      4       1  56.00      0  ...               1  59.43       0  288655.405405\n",
              "4      5       1  85.80      0  ...               0  55.50       1  425000.000000\n",
              "\n",
              "[5 rows x 15 columns]"
            ]
          },
          "metadata": {},
          "execution_count": 188
        }
      ]
    },
    {
      "cell_type": "code",
      "metadata": {
        "id": "baDEzJxn2Pwc"
      },
      "source": [
        "from sklearn.preprocessing import StandardScaler\n",
        "sc=StandardScaler()"
      ],
      "execution_count": null,
      "outputs": []
    },
    {
      "cell_type": "code",
      "metadata": {
        "id": "mILCk6SB2zkJ"
      },
      "source": [
        "li='ssc_p','hsc_p','degree_p','etest_p','mba_p','salary'\n",
        "for i in li:\n",
        "  df3=sc.fit_transform(df[[i]])\n",
        "  df.drop([i],axis=1)\n",
        "  df[i]=df3\n",
        "\n"
      ],
      "execution_count": null,
      "outputs": []
    },
    {
      "cell_type": "code",
      "metadata": {
        "colab": {
          "base_uri": "https://localhost:8080/",
          "height": 206
        },
        "id": "F97XmSiQ3PAO",
        "outputId": "535d0002-0874-4489-f7eb-73f911672dbf"
      },
      "source": [
        "df.head()"
      ],
      "execution_count": null,
      "outputs": [
        {
          "output_type": "execute_result",
          "data": {
            "text/html": [
              "<div>\n",
              "<style scoped>\n",
              "    .dataframe tbody tr th:only-of-type {\n",
              "        vertical-align: middle;\n",
              "    }\n",
              "\n",
              "    .dataframe tbody tr th {\n",
              "        vertical-align: top;\n",
              "    }\n",
              "\n",
              "    .dataframe thead th {\n",
              "        text-align: right;\n",
              "    }\n",
              "</style>\n",
              "<table border=\"1\" class=\"dataframe\">\n",
              "  <thead>\n",
              "    <tr style=\"text-align: right;\">\n",
              "      <th></th>\n",
              "      <th>sl_no</th>\n",
              "      <th>gender</th>\n",
              "      <th>ssc_p</th>\n",
              "      <th>ssc_b</th>\n",
              "      <th>hsc_p</th>\n",
              "      <th>hsc_b</th>\n",
              "      <th>hsc_s</th>\n",
              "      <th>degree_p</th>\n",
              "      <th>degree_t</th>\n",
              "      <th>workex</th>\n",
              "      <th>etest_p</th>\n",
              "      <th>specialisation</th>\n",
              "      <th>mba_p</th>\n",
              "      <th>status</th>\n",
              "      <th>salary</th>\n",
              "    </tr>\n",
              "  </thead>\n",
              "  <tbody>\n",
              "    <tr>\n",
              "      <th>0</th>\n",
              "      <td>1</td>\n",
              "      <td>1</td>\n",
              "      <td>-0.028087</td>\n",
              "      <td>1</td>\n",
              "      <td>2.268812</td>\n",
              "      <td>1</td>\n",
              "      <td>1</td>\n",
              "      <td>-1.140102</td>\n",
              "      <td>2</td>\n",
              "      <td>0</td>\n",
              "      <td>-1.291091</td>\n",
              "      <td>1</td>\n",
              "      <td>-0.597647</td>\n",
              "      <td>1</td>\n",
              "      <td>-2.414078e-01</td>\n",
              "    </tr>\n",
              "    <tr>\n",
              "      <th>1</th>\n",
              "      <td>2</td>\n",
              "      <td>1</td>\n",
              "      <td>1.113369</td>\n",
              "      <td>0</td>\n",
              "      <td>1.103448</td>\n",
              "      <td>1</td>\n",
              "      <td>2</td>\n",
              "      <td>1.513267</td>\n",
              "      <td>2</td>\n",
              "      <td>1</td>\n",
              "      <td>1.087157</td>\n",
              "      <td>0</td>\n",
              "      <td>0.687620</td>\n",
              "      <td>1</td>\n",
              "      <td>-1.147234e+00</td>\n",
              "    </tr>\n",
              "    <tr>\n",
              "      <th>2</th>\n",
              "      <td>3</td>\n",
              "      <td>1</td>\n",
              "      <td>-0.213238</td>\n",
              "      <td>0</td>\n",
              "      <td>0.153313</td>\n",
              "      <td>0</td>\n",
              "      <td>0</td>\n",
              "      <td>-0.322843</td>\n",
              "      <td>0</td>\n",
              "      <td>0</td>\n",
              "      <td>0.218908</td>\n",
              "      <td>0</td>\n",
              "      <td>-0.769474</td>\n",
              "      <td>1</td>\n",
              "      <td>-5.002152e-01</td>\n",
              "    </tr>\n",
              "    <tr>\n",
              "      <th>3</th>\n",
              "      <td>4</td>\n",
              "      <td>1</td>\n",
              "      <td>-1.046417</td>\n",
              "      <td>0</td>\n",
              "      <td>-1.318339</td>\n",
              "      <td>0</td>\n",
              "      <td>2</td>\n",
              "      <td>-1.957362</td>\n",
              "      <td>2</td>\n",
              "      <td>0</td>\n",
              "      <td>-0.460592</td>\n",
              "      <td>1</td>\n",
              "      <td>-0.489396</td>\n",
              "      <td>0</td>\n",
              "      <td>-7.532285e-16</td>\n",
              "    </tr>\n",
              "    <tr>\n",
              "      <th>4</th>\n",
              "      <td>5</td>\n",
              "      <td>1</td>\n",
              "      <td>1.712332</td>\n",
              "      <td>0</td>\n",
              "      <td>0.668391</td>\n",
              "      <td>0</td>\n",
              "      <td>1</td>\n",
              "      <td>0.943909</td>\n",
              "      <td>0</td>\n",
              "      <td>0</td>\n",
              "      <td>1.864806</td>\n",
              "      <td>0</td>\n",
              "      <td>-1.164676</td>\n",
              "      <td>1</td>\n",
              "      <td>1.764349e+00</td>\n",
              "    </tr>\n",
              "  </tbody>\n",
              "</table>\n",
              "</div>"
            ],
            "text/plain": [
              "   sl_no  gender     ssc_p  ...     mba_p  status        salary\n",
              "0      1       1 -0.028087  ... -0.597647       1 -2.414078e-01\n",
              "1      2       1  1.113369  ...  0.687620       1 -1.147234e+00\n",
              "2      3       1 -0.213238  ... -0.769474       1 -5.002152e-01\n",
              "3      4       1 -1.046417  ... -0.489396       0 -7.532285e-16\n",
              "4      5       1  1.712332  ... -1.164676       1  1.764349e+00\n",
              "\n",
              "[5 rows x 15 columns]"
            ]
          },
          "metadata": {},
          "execution_count": 191
        }
      ]
    },
    {
      "cell_type": "code",
      "metadata": {
        "id": "9CMYv5NdKwGS"
      },
      "source": [
        "from statsmodels.regression.linear_model import OLS\n"
      ],
      "execution_count": null,
      "outputs": []
    },
    {
      "cell_type": "code",
      "metadata": {
        "id": "XUa2FuAZMWwh"
      },
      "source": [
        "y=df['status']\n",
        "df=df.drop(['status','sl_no'],axis=1)"
      ],
      "execution_count": null,
      "outputs": []
    },
    {
      "cell_type": "code",
      "metadata": {
        "colab": {
          "base_uri": "https://localhost:8080/",
          "height": 206
        },
        "id": "vugAddsRMX70",
        "outputId": "6b018874-6b7e-4da1-f979-94a08cbdbfa6"
      },
      "source": [
        "df.head()"
      ],
      "execution_count": null,
      "outputs": [
        {
          "output_type": "execute_result",
          "data": {
            "text/html": [
              "<div>\n",
              "<style scoped>\n",
              "    .dataframe tbody tr th:only-of-type {\n",
              "        vertical-align: middle;\n",
              "    }\n",
              "\n",
              "    .dataframe tbody tr th {\n",
              "        vertical-align: top;\n",
              "    }\n",
              "\n",
              "    .dataframe thead th {\n",
              "        text-align: right;\n",
              "    }\n",
              "</style>\n",
              "<table border=\"1\" class=\"dataframe\">\n",
              "  <thead>\n",
              "    <tr style=\"text-align: right;\">\n",
              "      <th></th>\n",
              "      <th>gender</th>\n",
              "      <th>ssc_p</th>\n",
              "      <th>ssc_b</th>\n",
              "      <th>hsc_p</th>\n",
              "      <th>hsc_b</th>\n",
              "      <th>hsc_s</th>\n",
              "      <th>degree_p</th>\n",
              "      <th>degree_t</th>\n",
              "      <th>workex</th>\n",
              "      <th>etest_p</th>\n",
              "      <th>specialisation</th>\n",
              "      <th>mba_p</th>\n",
              "      <th>salary</th>\n",
              "    </tr>\n",
              "  </thead>\n",
              "  <tbody>\n",
              "    <tr>\n",
              "      <th>0</th>\n",
              "      <td>1</td>\n",
              "      <td>-0.028087</td>\n",
              "      <td>1</td>\n",
              "      <td>2.268812</td>\n",
              "      <td>1</td>\n",
              "      <td>1</td>\n",
              "      <td>-1.140102</td>\n",
              "      <td>2</td>\n",
              "      <td>0</td>\n",
              "      <td>-1.291091</td>\n",
              "      <td>1</td>\n",
              "      <td>-0.597647</td>\n",
              "      <td>-2.414078e-01</td>\n",
              "    </tr>\n",
              "    <tr>\n",
              "      <th>1</th>\n",
              "      <td>1</td>\n",
              "      <td>1.113369</td>\n",
              "      <td>0</td>\n",
              "      <td>1.103448</td>\n",
              "      <td>1</td>\n",
              "      <td>2</td>\n",
              "      <td>1.513267</td>\n",
              "      <td>2</td>\n",
              "      <td>1</td>\n",
              "      <td>1.087157</td>\n",
              "      <td>0</td>\n",
              "      <td>0.687620</td>\n",
              "      <td>-1.147234e+00</td>\n",
              "    </tr>\n",
              "    <tr>\n",
              "      <th>2</th>\n",
              "      <td>1</td>\n",
              "      <td>-0.213238</td>\n",
              "      <td>0</td>\n",
              "      <td>0.153313</td>\n",
              "      <td>0</td>\n",
              "      <td>0</td>\n",
              "      <td>-0.322843</td>\n",
              "      <td>0</td>\n",
              "      <td>0</td>\n",
              "      <td>0.218908</td>\n",
              "      <td>0</td>\n",
              "      <td>-0.769474</td>\n",
              "      <td>-5.002152e-01</td>\n",
              "    </tr>\n",
              "    <tr>\n",
              "      <th>3</th>\n",
              "      <td>1</td>\n",
              "      <td>-1.046417</td>\n",
              "      <td>0</td>\n",
              "      <td>-1.318339</td>\n",
              "      <td>0</td>\n",
              "      <td>2</td>\n",
              "      <td>-1.957362</td>\n",
              "      <td>2</td>\n",
              "      <td>0</td>\n",
              "      <td>-0.460592</td>\n",
              "      <td>1</td>\n",
              "      <td>-0.489396</td>\n",
              "      <td>-7.532285e-16</td>\n",
              "    </tr>\n",
              "    <tr>\n",
              "      <th>4</th>\n",
              "      <td>1</td>\n",
              "      <td>1.712332</td>\n",
              "      <td>0</td>\n",
              "      <td>0.668391</td>\n",
              "      <td>0</td>\n",
              "      <td>1</td>\n",
              "      <td>0.943909</td>\n",
              "      <td>0</td>\n",
              "      <td>0</td>\n",
              "      <td>1.864806</td>\n",
              "      <td>0</td>\n",
              "      <td>-1.164676</td>\n",
              "      <td>1.764349e+00</td>\n",
              "    </tr>\n",
              "  </tbody>\n",
              "</table>\n",
              "</div>"
            ],
            "text/plain": [
              "   gender     ssc_p  ssc_b  ...  specialisation     mba_p        salary\n",
              "0       1 -0.028087      1  ...               1 -0.597647 -2.414078e-01\n",
              "1       1  1.113369      0  ...               0  0.687620 -1.147234e+00\n",
              "2       1 -0.213238      0  ...               0 -0.769474 -5.002152e-01\n",
              "3       1 -1.046417      0  ...               1 -0.489396 -7.532285e-16\n",
              "4       1  1.712332      0  ...               0 -1.164676  1.764349e+00\n",
              "\n",
              "[5 rows x 13 columns]"
            ]
          },
          "metadata": {},
          "execution_count": 194
        }
      ]
    },
    {
      "cell_type": "code",
      "metadata": {
        "colab": {
          "base_uri": "https://localhost:8080/"
        },
        "id": "m5IwuE86MzO6",
        "outputId": "e3867888-f6f8-4a27-f4c7-406a7117c733"
      },
      "source": [
        "df.shape"
      ],
      "execution_count": null,
      "outputs": [
        {
          "output_type": "execute_result",
          "data": {
            "text/plain": [
              "(215, 13)"
            ]
          },
          "metadata": {},
          "execution_count": 195
        }
      ]
    },
    {
      "cell_type": "code",
      "metadata": {
        "colab": {
          "base_uri": "https://localhost:8080/",
          "height": 206
        },
        "id": "fL-tsB9iNFrK",
        "outputId": "fd119098-07ba-4752-bd19-65fd40d4bb9b"
      },
      "source": [
        "df.drop('gender',axis=1,inplace=True)\n",
        "df.head()"
      ],
      "execution_count": null,
      "outputs": [
        {
          "output_type": "execute_result",
          "data": {
            "text/html": [
              "<div>\n",
              "<style scoped>\n",
              "    .dataframe tbody tr th:only-of-type {\n",
              "        vertical-align: middle;\n",
              "    }\n",
              "\n",
              "    .dataframe tbody tr th {\n",
              "        vertical-align: top;\n",
              "    }\n",
              "\n",
              "    .dataframe thead th {\n",
              "        text-align: right;\n",
              "    }\n",
              "</style>\n",
              "<table border=\"1\" class=\"dataframe\">\n",
              "  <thead>\n",
              "    <tr style=\"text-align: right;\">\n",
              "      <th></th>\n",
              "      <th>ssc_p</th>\n",
              "      <th>ssc_b</th>\n",
              "      <th>hsc_p</th>\n",
              "      <th>hsc_b</th>\n",
              "      <th>hsc_s</th>\n",
              "      <th>degree_p</th>\n",
              "      <th>degree_t</th>\n",
              "      <th>workex</th>\n",
              "      <th>etest_p</th>\n",
              "      <th>specialisation</th>\n",
              "      <th>mba_p</th>\n",
              "      <th>salary</th>\n",
              "    </tr>\n",
              "  </thead>\n",
              "  <tbody>\n",
              "    <tr>\n",
              "      <th>0</th>\n",
              "      <td>-0.028087</td>\n",
              "      <td>1</td>\n",
              "      <td>2.268812</td>\n",
              "      <td>1</td>\n",
              "      <td>1</td>\n",
              "      <td>-1.140102</td>\n",
              "      <td>2</td>\n",
              "      <td>0</td>\n",
              "      <td>-1.291091</td>\n",
              "      <td>1</td>\n",
              "      <td>-0.597647</td>\n",
              "      <td>-2.414078e-01</td>\n",
              "    </tr>\n",
              "    <tr>\n",
              "      <th>1</th>\n",
              "      <td>1.113369</td>\n",
              "      <td>0</td>\n",
              "      <td>1.103448</td>\n",
              "      <td>1</td>\n",
              "      <td>2</td>\n",
              "      <td>1.513267</td>\n",
              "      <td>2</td>\n",
              "      <td>1</td>\n",
              "      <td>1.087157</td>\n",
              "      <td>0</td>\n",
              "      <td>0.687620</td>\n",
              "      <td>-1.147234e+00</td>\n",
              "    </tr>\n",
              "    <tr>\n",
              "      <th>2</th>\n",
              "      <td>-0.213238</td>\n",
              "      <td>0</td>\n",
              "      <td>0.153313</td>\n",
              "      <td>0</td>\n",
              "      <td>0</td>\n",
              "      <td>-0.322843</td>\n",
              "      <td>0</td>\n",
              "      <td>0</td>\n",
              "      <td>0.218908</td>\n",
              "      <td>0</td>\n",
              "      <td>-0.769474</td>\n",
              "      <td>-5.002152e-01</td>\n",
              "    </tr>\n",
              "    <tr>\n",
              "      <th>3</th>\n",
              "      <td>-1.046417</td>\n",
              "      <td>0</td>\n",
              "      <td>-1.318339</td>\n",
              "      <td>0</td>\n",
              "      <td>2</td>\n",
              "      <td>-1.957362</td>\n",
              "      <td>2</td>\n",
              "      <td>0</td>\n",
              "      <td>-0.460592</td>\n",
              "      <td>1</td>\n",
              "      <td>-0.489396</td>\n",
              "      <td>-7.532285e-16</td>\n",
              "    </tr>\n",
              "    <tr>\n",
              "      <th>4</th>\n",
              "      <td>1.712332</td>\n",
              "      <td>0</td>\n",
              "      <td>0.668391</td>\n",
              "      <td>0</td>\n",
              "      <td>1</td>\n",
              "      <td>0.943909</td>\n",
              "      <td>0</td>\n",
              "      <td>0</td>\n",
              "      <td>1.864806</td>\n",
              "      <td>0</td>\n",
              "      <td>-1.164676</td>\n",
              "      <td>1.764349e+00</td>\n",
              "    </tr>\n",
              "  </tbody>\n",
              "</table>\n",
              "</div>"
            ],
            "text/plain": [
              "      ssc_p  ssc_b     hsc_p  ...  specialisation     mba_p        salary\n",
              "0 -0.028087      1  2.268812  ...               1 -0.597647 -2.414078e-01\n",
              "1  1.113369      0  1.103448  ...               0  0.687620 -1.147234e+00\n",
              "2 -0.213238      0  0.153313  ...               0 -0.769474 -5.002152e-01\n",
              "3 -1.046417      0 -1.318339  ...               1 -0.489396 -7.532285e-16\n",
              "4  1.712332      0  0.668391  ...               0 -1.164676  1.764349e+00\n",
              "\n",
              "[5 rows x 12 columns]"
            ]
          },
          "metadata": {},
          "execution_count": 196
        }
      ]
    },
    {
      "cell_type": "code",
      "metadata": {
        "id": "tsjkn5lvN0R4"
      },
      "source": [
        "X=df.values\n",
        "ones=np.ones((215,1))"
      ],
      "execution_count": null,
      "outputs": []
    },
    {
      "cell_type": "code",
      "metadata": {
        "id": "vgbXqi4pOFxZ"
      },
      "source": [
        "X=np.hstack([ones,X])"
      ],
      "execution_count": null,
      "outputs": []
    },
    {
      "cell_type": "code",
      "metadata": {
        "colab": {
          "base_uri": "https://localhost:8080/"
        },
        "id": "FyLwHsKlORTu",
        "outputId": "781789a1-997a-4fee-f6a2-fd07e58331bf"
      },
      "source": [
        "X.shape"
      ],
      "execution_count": null,
      "outputs": [
        {
          "output_type": "execute_result",
          "data": {
            "text/plain": [
              "(215, 13)"
            ]
          },
          "metadata": {},
          "execution_count": 203
        }
      ]
    },
    {
      "cell_type": "code",
      "metadata": {
        "id": "nlKRy3ceOTLs"
      },
      "source": [
        "model=OLS(endog=y,exog=X).fit()"
      ],
      "execution_count": null,
      "outputs": []
    },
    {
      "cell_type": "code",
      "metadata": {
        "colab": {
          "base_uri": "https://localhost:8080/"
        },
        "id": "TsQtRVv4O_fa",
        "outputId": "07796e5f-64a4-4d2c-8cf1-aa90d9a8ffe5"
      },
      "source": [
        "print(model.summary())"
      ],
      "execution_count": null,
      "outputs": [
        {
          "output_type": "stream",
          "name": "stdout",
          "text": [
            "                            OLS Regression Results                            \n",
            "==============================================================================\n",
            "Dep. Variable:                 status   R-squared:                       0.550\n",
            "Model:                            OLS   Adj. R-squared:                  0.523\n",
            "Method:                 Least Squares   F-statistic:                     20.58\n",
            "Date:                Sun, 31 Oct 2021   Prob (F-statistic):           4.95e-29\n",
            "Time:                        07:33:37   Log-Likelihood:                -53.737\n",
            "No. Observations:                 215   AIC:                             133.5\n",
            "Df Residuals:                     202   BIC:                             177.3\n",
            "Df Model:                          12                                         \n",
            "Covariance Type:            nonrobust                                         \n",
            "==============================================================================\n",
            "                 coef    std err          t      P>|t|      [0.025      0.975]\n",
            "------------------------------------------------------------------------------\n",
            "const          0.6500      0.074      8.841      0.000       0.505       0.795\n",
            "x1             0.2139      0.031      6.900      0.000       0.153       0.275\n",
            "x2             0.0669      0.059      1.130      0.260      -0.050       0.184\n",
            "x3             0.1095      0.030      3.696      0.000       0.051       0.168\n",
            "x4            -0.0417      0.059     -0.711      0.478      -0.157       0.074\n",
            "x5             0.0234      0.052      0.448      0.655      -0.080       0.126\n",
            "x6             0.1069      0.028      3.843      0.000       0.052       0.162\n",
            "x7            -0.0612      0.032     -1.925      0.056      -0.124       0.001\n",
            "x8             0.1849      0.049      3.810      0.000       0.089       0.281\n",
            "x9            -0.0299      0.024     -1.258      0.210      -0.077       0.017\n",
            "x10           -0.0589      0.049     -1.212      0.227      -0.155       0.037\n",
            "x11           -0.1370      0.026     -5.365      0.000      -0.187      -0.087\n",
            "x12            0.0079      0.023      0.345      0.731      -0.037       0.053\n",
            "==============================================================================\n",
            "Omnibus:                        2.779   Durbin-Watson:                   1.999\n",
            "Prob(Omnibus):                  0.249   Jarque-Bera (JB):                2.422\n",
            "Skew:                          -0.161   Prob(JB):                        0.298\n",
            "Kurtosis:                       2.592   Cond. No.                         9.19\n",
            "==============================================================================\n",
            "\n",
            "Warnings:\n",
            "[1] Standard Errors assume that the covariance matrix of the errors is correctly specified.\n"
          ]
        }
      ]
    },
    {
      "cell_type": "code",
      "metadata": {
        "id": "A_KQTkbvPDOr"
      },
      "source": [
        "X_optimal=X[:,:12]"
      ],
      "execution_count": null,
      "outputs": []
    },
    {
      "cell_type": "code",
      "metadata": {
        "colab": {
          "base_uri": "https://localhost:8080/"
        },
        "id": "1oq7t-FSRzD2",
        "outputId": "86250f53-3ddd-4830-d9de-8cf099ab157c"
      },
      "source": [
        "X_optimal.shape"
      ],
      "execution_count": null,
      "outputs": [
        {
          "output_type": "execute_result",
          "data": {
            "text/plain": [
              "(215, 12)"
            ]
          },
          "metadata": {},
          "execution_count": 215
        }
      ]
    },
    {
      "cell_type": "code",
      "metadata": {
        "colab": {
          "base_uri": "https://localhost:8080/"
        },
        "id": "YAst87coR1JN",
        "outputId": "43bb2898-7920-4b63-b1a2-52a491991ca8"
      },
      "source": [
        "model=OLS(endog=y,exog=X_optimal).fit()\n",
        "print(model.summary())"
      ],
      "execution_count": null,
      "outputs": [
        {
          "output_type": "stream",
          "name": "stdout",
          "text": [
            "                            OLS Regression Results                            \n",
            "==============================================================================\n",
            "Dep. Variable:                 status   R-squared:                       0.550\n",
            "Model:                            OLS   Adj. R-squared:                  0.525\n",
            "Method:                 Least Squares   F-statistic:                     22.54\n",
            "Date:                Sun, 31 Oct 2021   Prob (F-statistic):           1.07e-29\n",
            "Time:                        07:39:33   Log-Likelihood:                -53.800\n",
            "No. Observations:                 215   AIC:                             131.6\n",
            "Df Residuals:                     203   BIC:                             172.0\n",
            "Df Model:                          11                                         \n",
            "Covariance Type:            nonrobust                                         \n",
            "==============================================================================\n",
            "                 coef    std err          t      P>|t|      [0.025      0.975]\n",
            "------------------------------------------------------------------------------\n",
            "const          0.6491      0.073      8.853      0.000       0.505       0.794\n",
            "x1             0.2131      0.031      6.909      0.000       0.152       0.274\n",
            "x2             0.0673      0.059      1.140      0.256      -0.049       0.184\n",
            "x3             0.1099      0.030      3.724      0.000       0.052       0.168\n",
            "x4            -0.0424      0.059     -0.724      0.470      -0.158       0.073\n",
            "x5             0.0239      0.052      0.458      0.647      -0.079       0.127\n",
            "x6             0.1060      0.028      3.836      0.000       0.052       0.160\n",
            "x7            -0.0600      0.032     -1.902      0.059      -0.122       0.002\n",
            "x8             0.1862      0.048      3.857      0.000       0.091       0.281\n",
            "x9            -0.0289      0.024     -1.228      0.221      -0.075       0.018\n",
            "x10           -0.0605      0.048     -1.253      0.212      -0.156       0.035\n",
            "x11           -0.1359      0.025     -5.377      0.000      -0.186      -0.086\n",
            "==============================================================================\n",
            "Omnibus:                        2.755   Durbin-Watson:                   1.996\n",
            "Prob(Omnibus):                  0.252   Jarque-Bera (JB):                2.387\n",
            "Skew:                          -0.156   Prob(JB):                        0.303\n",
            "Kurtosis:                       2.589   Cond. No.                         9.18\n",
            "==============================================================================\n",
            "\n",
            "Warnings:\n",
            "[1] Standard Errors assume that the covariance matrix of the errors is correctly specified.\n"
          ]
        }
      ]
    },
    {
      "cell_type": "code",
      "metadata": {
        "id": "JV2NufemSXW1"
      },
      "source": [
        "X_optimal=X[:,[0,1,2,3,4,6,7,8,9,10,11]]"
      ],
      "execution_count": null,
      "outputs": []
    },
    {
      "cell_type": "code",
      "metadata": {
        "colab": {
          "base_uri": "https://localhost:8080/"
        },
        "id": "PaYfvsOuSvel",
        "outputId": "1de2b206-694b-4e3e-a926-c618253a5d2b"
      },
      "source": [
        "X_optimal.shape"
      ],
      "execution_count": null,
      "outputs": [
        {
          "output_type": "execute_result",
          "data": {
            "text/plain": [
              "(215, 11)"
            ]
          },
          "metadata": {},
          "execution_count": 224
        }
      ]
    },
    {
      "cell_type": "code",
      "metadata": {
        "colab": {
          "base_uri": "https://localhost:8080/"
        },
        "id": "6uSyDrJ7S0He",
        "outputId": "c7189227-4469-4229-885e-dc38760d4d6c"
      },
      "source": [
        "model=OLS(endog=y,exog=X_optimal).fit()\n",
        "print(model.summary())"
      ],
      "execution_count": null,
      "outputs": [
        {
          "output_type": "stream",
          "name": "stdout",
          "text": [
            "                            OLS Regression Results                            \n",
            "==============================================================================\n",
            "Dep. Variable:                 status   R-squared:                       0.549\n",
            "Model:                            OLS   Adj. R-squared:                  0.527\n",
            "Method:                 Least Squares   F-statistic:                     24.87\n",
            "Date:                Sun, 31 Oct 2021   Prob (F-statistic):           2.31e-30\n",
            "Time:                        07:43:19   Log-Likelihood:                -53.911\n",
            "No. Observations:                 215   AIC:                             129.8\n",
            "Df Residuals:                     204   BIC:                             166.9\n",
            "Df Model:                          10                                         \n",
            "Covariance Type:            nonrobust                                         \n",
            "==============================================================================\n",
            "                 coef    std err          t      P>|t|      [0.025      0.975]\n",
            "------------------------------------------------------------------------------\n",
            "const          0.6748      0.047     14.324      0.000       0.582       0.768\n",
            "x1             0.2166      0.030      7.263      0.000       0.158       0.275\n",
            "x2             0.0620      0.058      1.073      0.285      -0.052       0.176\n",
            "x3             0.1060      0.028      3.757      0.000       0.050       0.162\n",
            "x4            -0.0364      0.057     -0.639      0.523      -0.149       0.076\n",
            "x5             0.1076      0.027      3.933      0.000       0.054       0.162\n",
            "x6            -0.0519      0.026     -1.991      0.048      -0.103      -0.001\n",
            "x7             0.1846      0.048      3.842      0.000       0.090       0.279\n",
            "x8            -0.0278      0.023     -1.189      0.236      -0.074       0.018\n",
            "x9            -0.0571      0.048     -1.200      0.232      -0.151       0.037\n",
            "x10           -0.1368      0.025     -5.440      0.000      -0.186      -0.087\n",
            "==============================================================================\n",
            "Omnibus:                        2.905   Durbin-Watson:                   1.995\n",
            "Prob(Omnibus):                  0.234   Jarque-Bera (JB):                2.489\n",
            "Skew:                          -0.160   Prob(JB):                        0.288\n",
            "Kurtosis:                       2.581   Cond. No.                         5.55\n",
            "==============================================================================\n",
            "\n",
            "Warnings:\n",
            "[1] Standard Errors assume that the covariance matrix of the errors is correctly specified.\n"
          ]
        }
      ]
    },
    {
      "cell_type": "code",
      "metadata": {
        "colab": {
          "base_uri": "https://localhost:8080/"
        },
        "id": "MtTJTqM4TYCU",
        "outputId": "f8b3444b-aae4-44ea-9c31-b6ae3c240ad6"
      },
      "source": [
        "X_optimal=X[:,[0,1,2,3,6,7,8,9,10,11]]\n",
        "model=OLS(endog=y,exog=X_optimal).fit()\n",
        "print(model.summary())\n"
      ],
      "execution_count": null,
      "outputs": [
        {
          "output_type": "stream",
          "name": "stdout",
          "text": [
            "                            OLS Regression Results                            \n",
            "==============================================================================\n",
            "Dep. Variable:                 status   R-squared:                       0.548\n",
            "Model:                            OLS   Adj. R-squared:                  0.529\n",
            "Method:                 Least Squares   F-statistic:                     27.66\n",
            "Date:                Sun, 31 Oct 2021   Prob (F-statistic):           5.18e-31\n",
            "Time:                        07:46:12   Log-Likelihood:                -54.127\n",
            "No. Observations:                 215   AIC:                             128.3\n",
            "Df Residuals:                     205   BIC:                             162.0\n",
            "Df Model:                           9                                         \n",
            "Covariance Type:            nonrobust                                         \n",
            "==============================================================================\n",
            "                 coef    std err          t      P>|t|      [0.025      0.975]\n",
            "------------------------------------------------------------------------------\n",
            "const          0.6652      0.045     14.916      0.000       0.577       0.753\n",
            "x1             0.2183      0.030      7.358      0.000       0.160       0.277\n",
            "x2             0.0394      0.046      0.863      0.389      -0.051       0.129\n",
            "x3             0.1045      0.028      3.722      0.000       0.049       0.160\n",
            "x4             0.1067      0.027      3.912      0.000       0.053       0.161\n",
            "x5            -0.0519      0.026     -1.995      0.047      -0.103      -0.001\n",
            "x6             0.1819      0.048      3.805      0.000       0.088       0.276\n",
            "x7            -0.0288      0.023     -1.236      0.218      -0.075       0.017\n",
            "x8            -0.0599      0.047     -1.266      0.207      -0.153       0.033\n",
            "x9            -0.1369      0.025     -5.453      0.000      -0.186      -0.087\n",
            "==============================================================================\n",
            "Omnibus:                        3.728   Durbin-Watson:                   2.007\n",
            "Prob(Omnibus):                  0.155   Jarque-Bera (JB):                2.912\n",
            "Skew:                          -0.159   Prob(JB):                        0.233\n",
            "Kurtosis:                       2.527   Cond. No.                         4.83\n",
            "==============================================================================\n",
            "\n",
            "Warnings:\n",
            "[1] Standard Errors assume that the covariance matrix of the errors is correctly specified.\n"
          ]
        }
      ]
    },
    {
      "cell_type": "code",
      "metadata": {
        "id": "2PeF4FN6TfyF"
      },
      "source": [
        "from sklearn.model_selection import train_test_split\n",
        "from sklearn.metrics import confusion_matrix,classification_report\n",
        "from sklearn.neighbors import KNeighborsClassifier"
      ],
      "execution_count": null,
      "outputs": []
    },
    {
      "cell_type": "code",
      "metadata": {
        "id": "bduJ6KkRU1fi"
      },
      "source": [
        "xtrain,xtest,ytrain,ytest=train_test_split(X,y)"
      ],
      "execution_count": null,
      "outputs": []
    },
    {
      "cell_type": "code",
      "metadata": {
        "id": "jfE5pUNqVQj2"
      },
      "source": [
        "clf=KNeighborsClassifier()"
      ],
      "execution_count": null,
      "outputs": []
    },
    {
      "cell_type": "code",
      "metadata": {
        "colab": {
          "base_uri": "https://localhost:8080/"
        },
        "id": "TMlyOTv9VTzv",
        "outputId": "1f00a9a8-fd85-4c53-eea9-caa9290eded7"
      },
      "source": [
        "clf.fit(xtrain,ytrain)"
      ],
      "execution_count": null,
      "outputs": [
        {
          "output_type": "execute_result",
          "data": {
            "text/plain": [
              "KNeighborsClassifier(algorithm='auto', leaf_size=30, metric='minkowski',\n",
              "                     metric_params=None, n_jobs=None, n_neighbors=5, p=2,\n",
              "                     weights='uniform')"
            ]
          },
          "metadata": {},
          "execution_count": 231
        }
      ]
    },
    {
      "cell_type": "code",
      "metadata": {
        "id": "7LFMxsudVYXH"
      },
      "source": [
        "ypred=clf.predict(xtest)"
      ],
      "execution_count": null,
      "outputs": []
    },
    {
      "cell_type": "code",
      "metadata": {
        "colab": {
          "base_uri": "https://localhost:8080/"
        },
        "id": "V5pky1DHWatm",
        "outputId": "f817c9c7-6685-4f39-fb19-ed5b94e058b9"
      },
      "source": [
        "print(classification_report(ytest,ypred))"
      ],
      "execution_count": null,
      "outputs": [
        {
          "output_type": "stream",
          "name": "stdout",
          "text": [
            "              precision    recall  f1-score   support\n",
            "\n",
            "           0       0.81      0.65      0.72        20\n",
            "           1       0.82      0.91      0.86        34\n",
            "\n",
            "    accuracy                           0.81        54\n",
            "   macro avg       0.81      0.78      0.79        54\n",
            "weighted avg       0.81      0.81      0.81        54\n",
            "\n"
          ]
        }
      ]
    },
    {
      "cell_type": "code",
      "metadata": {
        "id": "jQACkAscWoF9"
      },
      "source": [
        "from sklearn.svm import SVC\n",
        "from sklearn.naive_bayes import GaussianNB"
      ],
      "execution_count": null,
      "outputs": []
    },
    {
      "cell_type": "code",
      "metadata": {
        "id": "lsUq2n59XX4x"
      },
      "source": [
        "clf2=SVC()\n",
        "clf3=GaussianNB()"
      ],
      "execution_count": null,
      "outputs": []
    },
    {
      "cell_type": "code",
      "metadata": {
        "colab": {
          "base_uri": "https://localhost:8080/"
        },
        "id": "8YTUEiTGXitI",
        "outputId": "09c5f744-b25f-4e0d-cfb4-af41a92aec5f"
      },
      "source": [
        "clf2.fit(xtrain,ytrain)\n",
        "ypred=clf2.predict(xtest)\n",
        "print(classification_report(ytest,ypred))"
      ],
      "execution_count": null,
      "outputs": [
        {
          "output_type": "stream",
          "name": "stdout",
          "text": [
            "              precision    recall  f1-score   support\n",
            "\n",
            "           0       0.88      0.70      0.78        20\n",
            "           1       0.84      0.94      0.89        34\n",
            "\n",
            "    accuracy                           0.85        54\n",
            "   macro avg       0.86      0.82      0.83        54\n",
            "weighted avg       0.85      0.85      0.85        54\n",
            "\n"
          ]
        }
      ]
    },
    {
      "cell_type": "code",
      "metadata": {
        "colab": {
          "base_uri": "https://localhost:8080/"
        },
        "id": "vqGmaYwAX3m1",
        "outputId": "bdc5fb9b-f4be-482d-fae0-665025c2fe44"
      },
      "source": [
        "clf3.fit(xtrain,ytrain)\n",
        "ypred=clf3.predict(xtest)\n",
        "print(classification_report(ytest,ypred))"
      ],
      "execution_count": null,
      "outputs": [
        {
          "output_type": "stream",
          "name": "stdout",
          "text": [
            "              precision    recall  f1-score   support\n",
            "\n",
            "           0       1.00      1.00      1.00        20\n",
            "           1       1.00      1.00      1.00        34\n",
            "\n",
            "    accuracy                           1.00        54\n",
            "   macro avg       1.00      1.00      1.00        54\n",
            "weighted avg       1.00      1.00      1.00        54\n",
            "\n"
          ]
        }
      ]
    },
    {
      "cell_type": "code",
      "metadata": {
        "id": "MGLT5P4HX9ar"
      },
      "source": [
        "import joblib\n"
      ],
      "execution_count": null,
      "outputs": []
    },
    {
      "cell_type": "code",
      "metadata": {
        "id": "xxjkAqc2YNcn"
      },
      "source": [
        "model={\n",
        "    'scaler':sc,\n",
        "    'ecoder':le,\n",
        "    'object':clf3,\n",
        "}"
      ],
      "execution_count": null,
      "outputs": []
    },
    {
      "cell_type": "code",
      "metadata": {
        "colab": {
          "base_uri": "https://localhost:8080/"
        },
        "id": "KHkcCHxuYm2x",
        "outputId": "c562c6de-34de-47d2-9edd-82834dffbb5d"
      },
      "source": [
        "joblib.dump(model,'E:\\resume\\model.joblib')"
      ],
      "execution_count": null,
      "outputs": [
        {
          "output_type": "execute_result",
          "data": {
            "text/plain": [
              "['E:\\resume\\\\model.joblib']"
            ]
          },
          "metadata": {},
          "execution_count": 253
        }
      ]
    },
    {
      "cell_type": "code",
      "metadata": {
        "id": "keXx2urUdzaM"
      },
      "source": [
        ""
      ],
      "execution_count": null,
      "outputs": []
    }
  ]
}